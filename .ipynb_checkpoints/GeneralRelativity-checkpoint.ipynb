{
 "cells": [
  {
   "cell_type": "code",
   "execution_count": 31,
   "metadata": {},
   "outputs": [],
   "source": [
    "import numpy as np\n",
    "import sympy\n",
    "import scipy as sp\n",
    "import einsteinpy\n",
    "from einsteinpy.symbolic import MetricTensor, ChristoffelSymbols, RiemannCurvatureTensor, RicciTensor, RicciScalar "
   ]
  },
  {
   "cell_type": "markdown",
   "metadata": {},
   "source": [
    "# Midterm Exercice 4\n",
    "There is a 2-dimensional space that is described by two coordinates A and B, of which\n",
    "distances dA, dB are grouped together by the 2-vector dx u as follows:\n",
    "\n",
    "$$\n",
    "dx^\\mu = \n",
    "\\begin{pmatrix}\n",
    "dA\\\\\n",
    "dB\\\\\n",
    "\\end{pmatrix}\n",
    "$$\n",
    "\n",
    "The properties of a space(time) are, as always, fully given by the metric tensor g μν . For\n",
    "this particular 2-dimensional space, the metric tensor is given by:\n",
    "\n",
    "$$\n",
    "g_{\\mu\\nu} = \n",
    "\\begin{pmatrix}\n",
    "\\cosh^2(A)-\\cos^2(B) && 0\\\\\n",
    "0 && \\sinh^2(A)-\\sin^2(B)\\\\\n",
    "\\end{pmatrix}\n",
    "$$\n",
    "\n",
    "Calculate the geodesic equations of this space, and use these to\n",
    "investigate whether this 2-dimensional space is curved, or whether it is\n",
    "just a Euclidian (‘flat’) space that happens to be written in coordinates\n",
    "that make the metric tensor merely look curved. Be very clear on what\n",
    "criterion you will use to determine this! ( i.e. do not leave me guessing\n",
    "what your calculations and/or results imply.)"
   ]
  },
  {
   "cell_type": "code",
   "execution_count": 3,
   "metadata": {},
   "outputs": [],
   "source": [
    "syms = sympy.symbols('A B')\n",
    "\n",
    "#Create your metric filled with zeros\n",
    "metric = [[0 for i in range(2)] for i in range(2)]\n",
    "\n",
    "#Initialize your metrics diagonal\n",
    "metric[0][0] = sympy.cosh(syms[0])**2-sympy.cos(syms[1])**2\n",
    "metric[1][1] = sympy.sinh(syms[0])**2-sympy.sin(syms[1])**2"
   ]
  },
  {
   "cell_type": "code",
   "execution_count": 4,
   "metadata": {},
   "outputs": [
    {
     "data": {
      "text/latex": [
       "$\\displaystyle \\left[\\begin{matrix}- \\cos^{2}{\\left(B \\right)} + \\cosh^{2}{\\left(A \\right)} & 0\\\\0 & - \\sin^{2}{\\left(B \\right)} + \\sinh^{2}{\\left(A \\right)}\\end{matrix}\\right]$"
      ],
      "text/plain": [
       "[[-cos(B)**2 + cosh(A)**2, 0], [0, -sin(B)**2 + sinh(A)**2]]"
      ]
     },
     "execution_count": 4,
     "metadata": {},
     "output_type": "execute_result"
    }
   ],
   "source": [
    "#Create and print the metric tensor\n",
    "m_obj = MetricTensor(metric,syms)\n",
    "m_obj.tensor()"
   ]
  },
  {
   "cell_type": "code",
   "execution_count": 5,
   "metadata": {},
   "outputs": [
    {
     "data": {
      "text/latex": [
       "$\\displaystyle \\left[\\begin{matrix}\\left[\\begin{matrix}\\frac{\\sinh{\\left(A \\right)} \\cosh{\\left(A \\right)}}{- \\cos^{2}{\\left(B \\right)} + \\cosh^{2}{\\left(A \\right)}} & \\frac{\\sin{\\left(B \\right)} \\cos{\\left(B \\right)}}{- \\cos^{2}{\\left(B \\right)} + \\cosh^{2}{\\left(A \\right)}}\\\\\\frac{\\sin{\\left(B \\right)} \\cos{\\left(B \\right)}}{- \\cos^{2}{\\left(B \\right)} + \\cosh^{2}{\\left(A \\right)}} & - \\frac{\\sinh{\\left(A \\right)} \\cosh{\\left(A \\right)}}{- \\cos^{2}{\\left(B \\right)} + \\cosh^{2}{\\left(A \\right)}}\\end{matrix}\\right] & \\left[\\begin{matrix}- \\frac{\\sin{\\left(B \\right)} \\cos{\\left(B \\right)}}{- \\sin^{2}{\\left(B \\right)} + \\sinh^{2}{\\left(A \\right)}} & \\frac{\\sinh{\\left(A \\right)} \\cosh{\\left(A \\right)}}{- \\sin^{2}{\\left(B \\right)} + \\sinh^{2}{\\left(A \\right)}}\\\\\\frac{\\sinh{\\left(A \\right)} \\cosh{\\left(A \\right)}}{- \\sin^{2}{\\left(B \\right)} + \\sinh^{2}{\\left(A \\right)}} & - \\frac{\\sin{\\left(B \\right)} \\cos{\\left(B \\right)}}{- \\sin^{2}{\\left(B \\right)} + \\sinh^{2}{\\left(A \\right)}}\\end{matrix}\\right]\\end{matrix}\\right]$"
      ],
      "text/plain": [
       "[[[sinh(A)*cosh(A)/(-cos(B)**2 + cosh(A)**2), sin(B)*cos(B)/(-cos(B)**2 + cosh(A)**2)], [sin(B)*cos(B)/(-cos(B)**2 + cosh(A)**2), -sinh(A)*cosh(A)/(-cos(B)**2 + cosh(A)**2)]], [[-sin(B)*cos(B)/(-sin(B)**2 + sinh(A)**2), sinh(A)*cosh(A)/(-sin(B)**2 + sinh(A)**2)], [sinh(A)*cosh(A)/(-sin(B)**2 + sinh(A)**2), -sin(B)*cos(B)/(-sin(B)**2 + sinh(A)**2)]]]"
      ]
     },
     "execution_count": 5,
     "metadata": {},
     "output_type": "execute_result"
    }
   ],
   "source": [
    "ch = ChristoffelSymbols.from_metric(m_obj)\n",
    "ch.tensor()"
   ]
  },
  {
   "cell_type": "code",
   "execution_count": 6,
   "metadata": {},
   "outputs": [
    {
     "data": {
      "text/latex": [
       "$\\displaystyle \\left[\\begin{matrix}\\left[\\begin{matrix}0 & 0\\\\0 & \\frac{2 \\left(\\sin^{2}{\\left(B \\right)} + \\sinh^{2}{\\left(A \\right)}\\right) \\sin^{2}{\\left(B \\right)} \\sinh^{2}{\\left(A \\right)}}{\\left(\\sin^{2}{\\left(B \\right)} - \\sinh^{2}{\\left(A \\right)}\\right) \\left(\\cos{\\left(B \\right)} - \\cosh{\\left(A \\right)}\\right)^{2} \\left(\\cos{\\left(B \\right)} + \\cosh{\\left(A \\right)}\\right)^{2}}\\end{matrix}\\right] & \\left[\\begin{matrix}0 & - \\frac{2 \\left(\\sin^{2}{\\left(B \\right)} + \\sinh^{2}{\\left(A \\right)}\\right) \\sin^{2}{\\left(B \\right)} \\sinh^{2}{\\left(A \\right)}}{\\left(\\sin^{2}{\\left(B \\right)} - \\sinh^{2}{\\left(A \\right)}\\right) \\left(\\cos{\\left(B \\right)} - \\cosh{\\left(A \\right)}\\right)^{2} \\left(\\cos{\\left(B \\right)} + \\cosh{\\left(A \\right)}\\right)^{2}}\\\\0 & 0\\end{matrix}\\right]\\\\\\left[\\begin{matrix}0 & 0\\\\- \\frac{2 \\left(\\sin^{2}{\\left(B \\right)} + \\sinh^{2}{\\left(A \\right)}\\right) \\sin^{2}{\\left(B \\right)} \\sinh^{2}{\\left(A \\right)}}{\\left(\\sin^{2}{\\left(B \\right)} - \\sinh^{2}{\\left(A \\right)}\\right)^{2} \\left(\\cos^{2}{\\left(B \\right)} - \\cosh^{2}{\\left(A \\right)}\\right)} & 0\\end{matrix}\\right] & \\left[\\begin{matrix}\\frac{2 \\left(\\sin^{2}{\\left(B \\right)} + \\sinh^{2}{\\left(A \\right)}\\right) \\sin^{2}{\\left(B \\right)} \\sinh^{2}{\\left(A \\right)}}{\\left(\\sin^{2}{\\left(B \\right)} - \\sinh^{2}{\\left(A \\right)}\\right)^{2} \\left(\\cos^{2}{\\left(B \\right)} - \\cosh^{2}{\\left(A \\right)}\\right)} & 0\\\\0 & 0\\end{matrix}\\right]\\end{matrix}\\right]$"
      ],
      "text/plain": [
       "[[[[0, 0], [0, 2*(sin(B)**2 + sinh(A)**2)*sin(B)**2*sinh(A)**2/((sin(B)**2 - sinh(A)**2)*(cos(B) - cosh(A))**2*(cos(B) + cosh(A))**2)]], [[0, -2*(sin(B)**2 + sinh(A)**2)*sin(B)**2*sinh(A)**2/((sin(B)**2 - sinh(A)**2)*(cos(B) - cosh(A))**2*(cos(B) + cosh(A))**2)], [0, 0]]], [[[0, 0], [-2*(sin(B)**2 + sinh(A)**2)*sin(B)**2*sinh(A)**2/((sin(B)**2 - sinh(A)**2)**2*(cos(B)**2 - cosh(A)**2)), 0]], [[2*(sin(B)**2 + sinh(A)**2)*sin(B)**2*sinh(A)**2/((sin(B)**2 - sinh(A)**2)**2*(cos(B)**2 - cosh(A)**2)), 0], [0, 0]]]]"
      ]
     },
     "execution_count": 6,
     "metadata": {},
     "output_type": "execute_result"
    }
   ],
   "source": [
    "rm1 = RiemannCurvatureTensor.from_christoffels(ch)\n",
    "rm1.tensor()"
   ]
  },
  {
   "cell_type": "markdown",
   "metadata": {},
   "source": [
    "# Exercice 8.3\n",
    "A three dimentional spacetime has the line element \n",
    "$$\n",
    "ds^2 = -\\left(1-\\frac{2M}{r}\\right)dt^2 + \\left(1-\\frac{2M}{r}\\right)^{-1}dr^2 + r^2d\\phi^2\n",
    "$$\n",
    "\n",
    "With this we can easily find the metric tensor:\n",
    "\n",
    "$$\n",
    "g_{\\mu\\nu} = \n",
    "\\begin{pmatrix}\n",
    "-\\left(1-\\frac{2M}{r}\\right) && 0 && 0\\\\\n",
    "0 && \\left(1-\\frac{2M}{r}\\right)^{-1} && 0\\\\\n",
    "0 && 0 && r^2\\\\\n",
    "\\end{pmatrix}\n",
    "$$\n"
   ]
  },
  {
   "cell_type": "code",
   "execution_count": 13,
   "metadata": {},
   "outputs": [
    {
     "data": {
      "text/latex": [
       "$\\displaystyle \\left[\\begin{matrix}- \\frac{2 M}{r} + 1 & 0 & 0\\\\0 & \\frac{1}{- \\frac{2 M}{r} + 1} & 0\\\\0 & 0 & r^{2}\\end{matrix}\\right]$"
      ],
      "text/plain": [
       "[[-2*M/r + 1, 0, 0], [0, 1/(-2*M/r + 1), 0], [0, 0, r**2]]"
      ]
     },
     "execution_count": 13,
     "metadata": {},
     "output_type": "execute_result"
    }
   ],
   "source": [
    "syms1 = sympy.symbols('t r phi')\n",
    "M = sympy.Symbol('M', constant=True)\n",
    "\n",
    "metric1 = [[0 for i in range(3)] for i in range(3)]\n",
    "\n",
    "metric1[0][0] = (1-(2*M/syms1[1]))\n",
    "metric1[1][1] = (1-(2*M/syms1[1]))**(-1)\n",
    "metric1[2][2] = syms1[1]**2\n",
    "\n",
    "m_obj1 = MetricTensor(metric1,syms1)\n",
    "m_obj1.tensor()"
   ]
  },
  {
   "cell_type": "code",
   "execution_count": 15,
   "metadata": {},
   "outputs": [
    {
     "data": {
      "text/latex": [
       "$\\displaystyle \\left[\\begin{matrix}\\left[\\begin{matrix}0 & \\frac{M}{r^{2} \\left(- \\frac{2 M}{r} + 1\\right)} & 0\\\\\\frac{M}{r^{2} \\left(- \\frac{2 M}{r} + 1\\right)} & 0 & 0\\\\0 & 0 & 0\\end{matrix}\\right] & \\left[\\begin{matrix}- \\frac{2 M \\left(- \\frac{M}{r} + \\frac{1}{2}\\right)}{r^{2}} & 0 & 0\\\\0 & - \\frac{2 M \\left(- \\frac{M}{r} + \\frac{1}{2}\\right)}{r^{2} \\left(- \\frac{2 M}{r} + 1\\right)^{2}} & 0\\\\0 & 0 & - 2 r \\left(- \\frac{M}{r} + \\frac{1}{2}\\right)\\end{matrix}\\right] & \\left[\\begin{matrix}0 & 0 & 0\\\\0 & 0 & \\frac{1}{r}\\\\0 & \\frac{1}{r} & 0\\end{matrix}\\right]\\end{matrix}\\right]$"
      ],
      "text/plain": [
       "[[[0, M/(r**2*(-2*M/r + 1)), 0], [M/(r**2*(-2*M/r + 1)), 0, 0], [0, 0, 0]], [[-2*M*(-M/r + 1/2)/r**2, 0, 0], [0, -2*M*(-M/r + 1/2)/(r**2*(-2*M/r + 1)**2), 0], [0, 0, -2*r*(-M/r + 1/2)]], [[0, 0, 0], [0, 0, 1/r], [0, 1/r, 0]]]"
      ]
     },
     "execution_count": 15,
     "metadata": {},
     "output_type": "execute_result"
    }
   ],
   "source": [
    "ch1 = ChristoffelSymbols.from_metric(m_obj1)\n",
    "ch1.tensor()"
   ]
  },
  {
   "cell_type": "markdown",
   "metadata": {},
   "source": [
    "### Just remember simplifying your answers before writing them down!!"
   ]
  },
  {
   "cell_type": "markdown",
   "metadata": {},
   "source": [
    "<hr>\n",
    "\n",
    "# Schwarzschild Spacetime\n",
    "\n",
    "Here is the Schwarzschild line element:\n",
    "\n",
    "$$\n",
    "ds^2 = -\\left(1-\\frac{2M}{r}\\right)dt^2 + \\left(1-\\frac{2M}{r}\\right)^{-1}dr^2 + r^2d\\theta^2 + r^2\\sin^2\\theta d\\phi^2\n",
    "$$\n",
    "\n",
    "With this we can easily find the Schwarzschild metric tensor:\n",
    "\n",
    "$$\n",
    "g_{\\mu\\nu} = \n",
    "\\begin{pmatrix}\n",
    "-\\left(1-\\frac{2M}{r}\\right) && 0 && 0 && 0\\\\\n",
    "0 && \\left(1-\\frac{2M}{r}\\right)^{-1} && 0 && 0\\\\\n",
    "0 && 0 && r^2 && 0\\\\\n",
    "0 && 0 && 0 && r^2\\sin^2\\theta\n",
    "\\end{pmatrix}\n",
    "$$"
   ]
  },
  {
   "cell_type": "code",
   "execution_count": 41,
   "metadata": {},
   "outputs": [
    {
     "data": {
      "text/latex": [
       "$\\displaystyle \\left[\\begin{matrix}- \\frac{2 M}{r} + 1 & 0 & 0 & 0\\\\0 & \\frac{1}{- \\frac{2 M}{r} + 1} & 0 & 0\\\\0 & 0 & r^{2} & 0\\\\0 & 0 & 0 & r^{2} \\sin^{2}{\\left(\\theta \\right)}\\end{matrix}\\right]$"
      ],
      "text/plain": [
       "[[-2*M/r + 1, 0, 0, 0], [0, 1/(-2*M/r + 1), 0, 0], [0, 0, r**2, 0], [0, 0, 0, r**2*sin(theta)**2]]"
      ]
     },
     "execution_count": 41,
     "metadata": {},
     "output_type": "execute_result"
    }
   ],
   "source": [
    "syms2 = sympy.symbols('t r phi theta')\n",
    "\n",
    "metric2 = [[0 for i in range(4)] for i in range(4)]\n",
    "\n",
    "metric2[0][0] = (1-(2*M/syms2[1]))\n",
    "metric2[1][1] = (1-(2*M/syms2[1]))**(-1)\n",
    "metric2[2][2] = syms2[1]**2\n",
    "metric2[3][3] = syms2[1]**2*sympy.sin(syms2[3])**2\n",
    "\n",
    "m_obj2 = MetricTensor(metric2,syms2)\n",
    "m_obj2.tensor()"
   ]
  },
  {
   "cell_type": "code",
   "execution_count": 42,
   "metadata": {},
   "outputs": [
    {
     "data": {
      "text/latex": [
       "$\\displaystyle \\left[\\begin{matrix}\\left[\\begin{matrix}0 & \\frac{M}{r^{2} \\left(- \\frac{2 M}{r} + 1\\right)} & 0 & 0\\\\\\frac{M}{r^{2} \\left(- \\frac{2 M}{r} + 1\\right)} & 0 & 0 & 0\\\\0 & 0 & 0 & 0\\\\0 & 0 & 0 & 0\\end{matrix}\\right] & \\left[\\begin{matrix}- \\frac{2 M \\left(- \\frac{M}{r} + \\frac{1}{2}\\right)}{r^{2}} & 0 & 0 & 0\\\\0 & - \\frac{2 M \\left(- \\frac{M}{r} + \\frac{1}{2}\\right)}{r^{2} \\left(- \\frac{2 M}{r} + 1\\right)^{2}} & 0 & 0\\\\0 & 0 & - 2 r \\left(- \\frac{M}{r} + \\frac{1}{2}\\right) & 0\\\\0 & 0 & 0 & - 2 r \\left(- \\frac{M}{r} + \\frac{1}{2}\\right) \\sin^{2}{\\left(\\theta \\right)}\\end{matrix}\\right] & \\left[\\begin{matrix}0 & 0 & 0 & 0\\\\0 & 0 & \\frac{1}{r} & 0\\\\0 & \\frac{1}{r} & 0 & 0\\\\0 & 0 & 0 & 0\\end{matrix}\\right] & \\left[\\begin{matrix}0 & 0 & 0 & 0\\\\0 & 0 & 0 & \\frac{1}{r}\\\\0 & 0 & 0 & 0\\\\0 & \\frac{1}{r} & 0 & \\frac{\\cos{\\left(\\theta \\right)}}{\\sin{\\left(\\theta \\right)}}\\end{matrix}\\right]\\end{matrix}\\right]$"
      ],
      "text/plain": [
       "[[[0, M/(r**2*(-2*M/r + 1)), 0, 0], [M/(r**2*(-2*M/r + 1)), 0, 0, 0], [0, 0, 0, 0], [0, 0, 0, 0]], [[-2*M*(-M/r + 1/2)/r**2, 0, 0, 0], [0, -2*M*(-M/r + 1/2)/(r**2*(-2*M/r + 1)**2), 0, 0], [0, 0, -2*r*(-M/r + 1/2), 0], [0, 0, 0, -2*r*(-M/r + 1/2)*sin(theta)**2]], [[0, 0, 0, 0], [0, 0, 1/r, 0], [0, 1/r, 0, 0], [0, 0, 0, 0]], [[0, 0, 0, 0], [0, 0, 0, 1/r], [0, 0, 0, 0], [0, 1/r, 0, cos(theta)/sin(theta)]]]"
      ]
     },
     "execution_count": 42,
     "metadata": {},
     "output_type": "execute_result"
    }
   ],
   "source": [
    "ch2 = ChristoffelSymbols.from_metric(m_obj2)\n",
    "ch2.tensor()"
   ]
  },
  {
   "cell_type": "code",
   "execution_count": 45,
   "metadata": {},
   "outputs": [
    {
     "data": {
      "text/latex": [
       "$\\displaystyle \\left[\\begin{matrix}\\left[\\begin{matrix}0 & 0 & 0 & 0\\\\0 & \\frac{2 M}{r^{2} \\left(2 M - r\\right)} & 0 & 0\\\\0 & 0 & \\frac{M}{r} & 0\\\\0 & 0 & 0 & \\frac{M \\sin^{2}{\\left(\\theta \\right)}}{r}\\end{matrix}\\right] & \\left[\\begin{matrix}0 & \\frac{2 M}{r^{2} \\left(- 2 M + r\\right)} & 0 & 0\\\\0 & 0 & 0 & 0\\\\0 & 0 & 0 & 0\\\\0 & 0 & 0 & 0\\end{matrix}\\right] & \\left[\\begin{matrix}0 & 0 & - \\frac{M}{r} & 0\\\\0 & 0 & 0 & 0\\\\0 & 0 & 0 & 0\\\\0 & 0 & 0 & 0\\end{matrix}\\right] & \\left[\\begin{matrix}0 & 0 & 0 & - \\frac{M \\sin^{2}{\\left(\\theta \\right)}}{r}\\\\0 & 0 & 0 & 0\\\\0 & 0 & 0 & 0\\\\0 & 0 & 0 & 0\\end{matrix}\\right]\\\\\\left[\\begin{matrix}0 & 0 & 0 & 0\\\\\\frac{2 M \\left(- 2 M + r\\right)}{r^{4}} & 0 & 0 & 0\\\\0 & 0 & 0 & 0\\\\0 & 0 & 0 & 0\\end{matrix}\\right] & \\left[\\begin{matrix}\\frac{2 M \\left(2 M - r\\right)}{r^{4}} & 0 & 0 & 0\\\\0 & 0 & 0 & 0\\\\0 & 0 & \\frac{M}{r} & 0\\\\0 & 0 & 0 & \\frac{M \\sin^{2}{\\left(\\theta \\right)}}{r}\\end{matrix}\\right] & \\left[\\begin{matrix}0 & 0 & 0 & 0\\\\0 & 0 & - \\frac{M}{r} & 0\\\\0 & 0 & 0 & 0\\\\0 & 0 & 0 & 0\\end{matrix}\\right] & \\left[\\begin{matrix}0 & 0 & 0 & 0\\\\0 & 0 & 0 & - \\frac{M \\sin^{2}{\\left(\\theta \\right)}}{r}\\\\0 & 0 & 0 & 0\\\\0 & 0 & 0 & 0\\end{matrix}\\right]\\\\\\left[\\begin{matrix}0 & 0 & 0 & 0\\\\0 & 0 & 0 & 0\\\\\\frac{M \\left(2 M - r\\right)}{r^{4}} & 0 & 0 & 0\\\\0 & 0 & 0 & 0\\end{matrix}\\right] & \\left[\\begin{matrix}0 & 0 & 0 & 0\\\\0 & 0 & 0 & 0\\\\0 & \\frac{M}{r^{2} \\left(2 M - r\\right)} & 0 & 0\\\\0 & 0 & 0 & 0\\end{matrix}\\right] & \\left[\\begin{matrix}\\frac{M \\left(- 2 M + r\\right)}{r^{4}} & 0 & 0 & 0\\\\0 & \\frac{M}{r^{2} \\left(- 2 M + r\\right)} & 0 & 0\\\\0 & 0 & 0 & 0\\\\0 & 0 & 0 & \\frac{\\left(- 2 M + r\\right) \\sin^{2}{\\left(\\theta \\right)}}{r}\\end{matrix}\\right] & \\left[\\begin{matrix}0 & 0 & 0 & 0\\\\0 & 0 & 0 & 0\\\\0 & 0 & 0 & \\frac{\\left(2 M - r\\right) \\sin^{2}{\\left(\\theta \\right)}}{r}\\\\0 & 0 & 0 & 0\\end{matrix}\\right]\\\\\\left[\\begin{matrix}0 & 0 & 0 & 0\\\\0 & 0 & 0 & 0\\\\0 & 0 & 0 & 0\\\\\\frac{M \\left(2 M - r\\right)}{r^{4}} & 0 & 0 & 0\\end{matrix}\\right] & \\left[\\begin{matrix}0 & 0 & 0 & 0\\\\0 & 0 & 0 & 0\\\\0 & 0 & 0 & 0\\\\0 & \\frac{M}{r^{2} \\left(2 M - r\\right)} & 0 & 0\\end{matrix}\\right] & \\left[\\begin{matrix}0 & 0 & 0 & 0\\\\0 & 0 & 0 & 0\\\\0 & 0 & 0 & 0\\\\0 & 0 & \\frac{2 M - r}{r} & 0\\end{matrix}\\right] & \\left[\\begin{matrix}\\frac{M \\left(- 2 M + r\\right)}{r^{4}} & 0 & 0 & 0\\\\0 & \\frac{M}{r^{2} \\left(- 2 M + r\\right)} & 0 & 0\\\\0 & 0 & \\frac{- 2 M + r}{r} & 0\\\\0 & 0 & 0 & 0\\end{matrix}\\right]\\end{matrix}\\right]$"
      ],
      "text/plain": [
       "[[[[0, 0, 0, 0], [0, 2*M/(r**2*(2*M - r)), 0, 0], [0, 0, M/r, 0], [0, 0, 0, M*sin(theta)**2/r]], [[0, 2*M/(r**2*(-2*M + r)), 0, 0], [0, 0, 0, 0], [0, 0, 0, 0], [0, 0, 0, 0]], [[0, 0, -M/r, 0], [0, 0, 0, 0], [0, 0, 0, 0], [0, 0, 0, 0]], [[0, 0, 0, -M*sin(theta)**2/r], [0, 0, 0, 0], [0, 0, 0, 0], [0, 0, 0, 0]]], [[[0, 0, 0, 0], [2*M*(-2*M + r)/r**4, 0, 0, 0], [0, 0, 0, 0], [0, 0, 0, 0]], [[2*M*(2*M - r)/r**4, 0, 0, 0], [0, 0, 0, 0], [0, 0, M/r, 0], [0, 0, 0, M*sin(theta)**2/r]], [[0, 0, 0, 0], [0, 0, -M/r, 0], [0, 0, 0, 0], [0, 0, 0, 0]], [[0, 0, 0, 0], [0, 0, 0, -M*sin(theta)**2/r], [0, 0, 0, 0], [0, 0, 0, 0]]], [[[0, 0, 0, 0], [0, 0, 0, 0], [M*(2*M - r)/r**4, 0, 0, 0], [0, 0, 0, 0]], [[0, 0, 0, 0], [0, 0, 0, 0], [0, M/(r**2*(2*M - r)), 0, 0], [0, 0, 0, 0]], [[M*(-2*M + r)/r**4, 0, 0, 0], [0, M/(r**2*(-2*M + r)), 0, 0], [0, 0, 0, 0], [0, 0, 0, (-2*M + r)*sin(theta)**2/r]], [[0, 0, 0, 0], [0, 0, 0, 0], [0, 0, 0, (2*M - r)*sin(theta)**2/r], [0, 0, 0, 0]]], [[[0, 0, 0, 0], [0, 0, 0, 0], [0, 0, 0, 0], [M*(2*M - r)/r**4, 0, 0, 0]], [[0, 0, 0, 0], [0, 0, 0, 0], [0, 0, 0, 0], [0, M/(r**2*(2*M - r)), 0, 0]], [[0, 0, 0, 0], [0, 0, 0, 0], [0, 0, 0, 0], [0, 0, (2*M - r)/r, 0]], [[M*(-2*M + r)/r**4, 0, 0, 0], [0, M/(r**2*(-2*M + r)), 0, 0], [0, 0, (-2*M + r)/r, 0], [0, 0, 0, 0]]]]"
      ]
     },
     "execution_count": 45,
     "metadata": {},
     "output_type": "execute_result"
    }
   ],
   "source": [
    "rm2 = RiemannCurvatureTensor.from_christoffels(ch2)\n",
    "rm2.tensor()"
   ]
  },
  {
   "cell_type": "code",
   "execution_count": 44,
   "metadata": {},
   "outputs": [
    {
     "data": {
      "text/latex": [
       "$\\displaystyle \\left[\\begin{matrix}\\frac{2 M \\left(- 2 M + r\\right)}{r^{4}} + \\frac{2 M \\left(2 M - r\\right)}{r^{4}} & 0 & 0 & 0\\\\0 & \\frac{2 M}{r^{2} \\left(2 M - r\\right)} + \\frac{2 M}{r^{2} \\left(- 2 M + r\\right)} & 0 & 0\\\\0 & 0 & - \\frac{2 M}{r} + \\frac{2 M - r}{r} & 0\\\\0 & 0 & 0 & - \\frac{2 M \\sin^{2}{\\left(\\theta \\right)}}{r} + \\frac{\\left(2 M - r\\right) \\sin^{2}{\\left(\\theta \\right)}}{r}\\end{matrix}\\right]$"
      ],
      "text/plain": [
       "[[2*M*(-2*M + r)/r**4 + 2*M*(2*M - r)/r**4, 0, 0, 0], [0, 2*M/(r**2*(2*M - r)) + 2*M/(r**2*(-2*M + r)), 0, 0], [0, 0, -2*M/r + (2*M - r)/r, 0], [0, 0, 0, -2*M*sin(theta)**2/r + (2*M - r)*sin(theta)**2/r]]"
      ]
     },
     "execution_count": 44,
     "metadata": {},
     "output_type": "execute_result"
    }
   ],
   "source": [
    "Ric = RicciTensor.from_metric(m_obj2)\n",
    "Ric.tensor()"
   ]
  },
  {
   "cell_type": "code",
   "execution_count": 47,
   "metadata": {},
   "outputs": [
    {
     "ename": "ValueError",
     "evalue": "cannot copy sequence with size 16 to array axis with dimension 4",
     "output_type": "error",
     "traceback": [
      "\u001b[0;31m---------------------------------------------------------------------------\u001b[0m",
      "\u001b[0;31mValueError\u001b[0m                                Traceback (most recent call last)",
      "\u001b[0;32m<ipython-input-47-25a4d26df658>\u001b[0m in \u001b[0;36m<module>\u001b[0;34m\u001b[0m\n\u001b[0;32m----> 1\u001b[0;31m \u001b[0mR\u001b[0m \u001b[0;34m=\u001b[0m \u001b[0mRicciScalar\u001b[0m\u001b[0;34m.\u001b[0m\u001b[0mfrom_riccitensor\u001b[0m\u001b[0;34m(\u001b[0m\u001b[0mRic\u001b[0m\u001b[0;34m)\u001b[0m\u001b[0;34m\u001b[0m\u001b[0;34m\u001b[0m\u001b[0m\n\u001b[0m",
      "\u001b[0;32m~/anaconda3/lib/python3.7/site-packages/einsteinpy/symbolic/ricci.py\u001b[0m in \u001b[0;36mfrom_riccitensor\u001b[0;34m(cls, riccitensor, parent_metric)\u001b[0m\n\u001b[1;32m    198\u001b[0m         \u001b[0;32mif\u001b[0m \u001b[0;32mnot\u001b[0m \u001b[0mriccitensor\u001b[0m\u001b[0;34m.\u001b[0m\u001b[0mconfig\u001b[0m \u001b[0;34m==\u001b[0m \u001b[0;34m\"ul\"\u001b[0m\u001b[0;34m:\u001b[0m\u001b[0;34m\u001b[0m\u001b[0;34m\u001b[0m\u001b[0m\n\u001b[1;32m    199\u001b[0m             riccitensor = riccitensor.change_config(\n\u001b[0;32m--> 200\u001b[0;31m                 \u001b[0mnewconfig\u001b[0m\u001b[0;34m=\u001b[0m\u001b[0;34m\"ul\"\u001b[0m\u001b[0;34m,\u001b[0m \u001b[0mmetric\u001b[0m\u001b[0;34m=\u001b[0m\u001b[0mparent_metric\u001b[0m\u001b[0;34m\u001b[0m\u001b[0;34m\u001b[0m\u001b[0m\n\u001b[0m\u001b[1;32m    201\u001b[0m             )\n\u001b[1;32m    202\u001b[0m         \u001b[0;32mif\u001b[0m \u001b[0mparent_metric\u001b[0m \u001b[0;32mis\u001b[0m \u001b[0;32mNone\u001b[0m\u001b[0;34m:\u001b[0m\u001b[0;34m\u001b[0m\u001b[0;34m\u001b[0m\u001b[0m\n",
      "\u001b[0;32m~/anaconda3/lib/python3.7/site-packages/einsteinpy/symbolic/ricci.py\u001b[0m in \u001b[0;36mchange_config\u001b[0;34m(self, newconfig, metric)\u001b[0m\n\u001b[1;32m    135\u001b[0m         \u001b[0;32mif\u001b[0m \u001b[0mmetric\u001b[0m \u001b[0;32mis\u001b[0m \u001b[0;32mNone\u001b[0m\u001b[0;34m:\u001b[0m\u001b[0;34m\u001b[0m\u001b[0;34m\u001b[0m\u001b[0m\n\u001b[1;32m    136\u001b[0m             \u001b[0;32mraise\u001b[0m \u001b[0mException\u001b[0m\u001b[0;34m(\u001b[0m\u001b[0;34m\"Parent Metric not found, can't do configuration change\"\u001b[0m\u001b[0;34m)\u001b[0m\u001b[0;34m\u001b[0m\u001b[0;34m\u001b[0m\u001b[0m\n\u001b[0;32m--> 137\u001b[0;31m         \u001b[0mnew_tensor\u001b[0m \u001b[0;34m=\u001b[0m \u001b[0m_change_config\u001b[0m\u001b[0;34m(\u001b[0m\u001b[0mself\u001b[0m\u001b[0;34m,\u001b[0m \u001b[0mmetric\u001b[0m\u001b[0;34m,\u001b[0m \u001b[0mnewconfig\u001b[0m\u001b[0;34m)\u001b[0m\u001b[0;34m\u001b[0m\u001b[0;34m\u001b[0m\u001b[0m\n\u001b[0m\u001b[1;32m    138\u001b[0m         new_obj = RicciTensor(\n\u001b[1;32m    139\u001b[0m             \u001b[0mnew_tensor\u001b[0m\u001b[0;34m,\u001b[0m \u001b[0mself\u001b[0m\u001b[0;34m.\u001b[0m\u001b[0msyms\u001b[0m\u001b[0;34m,\u001b[0m \u001b[0mconfig\u001b[0m\u001b[0;34m=\u001b[0m\u001b[0mnewconfig\u001b[0m\u001b[0;34m,\u001b[0m \u001b[0mparent_metric\u001b[0m\u001b[0;34m=\u001b[0m\u001b[0mmetric\u001b[0m\u001b[0;34m\u001b[0m\u001b[0;34m\u001b[0m\u001b[0m\n",
      "\u001b[0;32m~/anaconda3/lib/python3.7/site-packages/einsteinpy/symbolic/tensor.py\u001b[0m in \u001b[0;36m_change_config\u001b[0;34m(tensor, metric, newconfig)\u001b[0m\n\u001b[1;32m     63\u001b[0m         \u001b[0;32mreturn\u001b[0m \u001b[0mt\u001b[0m\u001b[0;34m\u001b[0m\u001b[0;34m\u001b[0m\u001b[0m\n\u001b[1;32m     64\u001b[0m \u001b[0;34m\u001b[0m\u001b[0m\n\u001b[0;32m---> 65\u001b[0;31m     \u001b[0;32mreturn\u001b[0m \u001b[0mchain_config_change\u001b[0m\u001b[0;34m(\u001b[0m\u001b[0;34m)\u001b[0m\u001b[0;34m\u001b[0m\u001b[0;34m\u001b[0m\u001b[0m\n\u001b[0m\u001b[1;32m     66\u001b[0m \u001b[0;34m\u001b[0m\u001b[0m\n\u001b[1;32m     67\u001b[0m \u001b[0;34m\u001b[0m\u001b[0m\n",
      "\u001b[0;32m~/anaconda3/lib/python3.7/site-packages/einsteinpy/symbolic/tensor.py\u001b[0m in \u001b[0;36mchain_config_change\u001b[0;34m()\u001b[0m\n\u001b[1;32m     52\u001b[0m                 )\n\u001b[1;32m     53\u001b[0m                 \u001b[0;31m# reshuffle the indices\u001b[0m\u001b[0;34m\u001b[0m\u001b[0;34m\u001b[0m\u001b[0;34m\u001b[0m\u001b[0m\n\u001b[0;32m---> 54\u001b[0;31m                 \u001b[0mtmp\u001b[0m \u001b[0;34m=\u001b[0m \u001b[0mnp\u001b[0m\u001b[0;34m.\u001b[0m\u001b[0marray\u001b[0m\u001b[0;34m(\u001b[0m\u001b[0mt\u001b[0m\u001b[0;34m)\u001b[0m\u001b[0;34m.\u001b[0m\u001b[0mreshape\u001b[0m\u001b[0;34m(\u001b[0m\u001b[0mt\u001b[0m\u001b[0;34m.\u001b[0m\u001b[0mshape\u001b[0m\u001b[0;34m)\u001b[0m\u001b[0;34m\u001b[0m\u001b[0;34m\u001b[0m\u001b[0m\n\u001b[0m\u001b[1;32m     55\u001b[0m                 source, dest = (\n\u001b[1;32m     56\u001b[0m                     \u001b[0;34m[\u001b[0m\u001b[0mp\u001b[0m \u001b[0;32mfor\u001b[0m \u001b[0mp\u001b[0m \u001b[0;32min\u001b[0m \u001b[0mrange\u001b[0m\u001b[0;34m(\u001b[0m\u001b[0mlen\u001b[0m\u001b[0;34m(\u001b[0m\u001b[0mt\u001b[0m\u001b[0;34m.\u001b[0m\u001b[0mshape\u001b[0m\u001b[0;34m)\u001b[0m\u001b[0;34m)\u001b[0m\u001b[0;34m]\u001b[0m\u001b[0;34m,\u001b[0m\u001b[0;34m\u001b[0m\u001b[0;34m\u001b[0m\u001b[0m\n",
      "\u001b[0;31mValueError\u001b[0m: cannot copy sequence with size 16 to array axis with dimension 4"
     ]
    }
   ],
   "source": [
    "R = RicciScalar.from_riccitensor(Ric)"
   ]
  },
  {
   "cell_type": "code",
   "execution_count": 48,
   "metadata": {},
   "outputs": [
    {
     "data": {
      "text/latex": [
       "$\\displaystyle \\left[\\begin{matrix}-1 & 0 & 0 & 0\\\\0 & \\cos^{2}{\\left(t \\right)} & 0 & 0\\\\0 & 0 & \\cos^{2}{\\left(t \\right)} \\sinh^{2}{\\left(\\chi \\right)} & 0\\\\0 & 0 & 0 & \\sin^{2}{\\left(\\theta \\right)} \\cos^{2}{\\left(t \\right)} \\sinh^{2}{\\left(\\chi \\right)}\\end{matrix}\\right]$"
      ],
      "text/plain": [
       "[[-1, 0, 0, 0], [0, cos(t)**2, 0, 0], [0, 0, cos(t)**2*sinh(chi)**2, 0], [0, 0, 0, sin(theta)**2*cos(t)**2*sinh(chi)**2]]"
      ]
     },
     "metadata": {},
     "output_type": "display_data"
    },
    {
     "data": {
      "text/latex": [
       "$\\displaystyle \\left[\\begin{matrix}3 & 0 & 0 & 0\\\\0 & - 3 \\cos^{2}{\\left(t \\right)} & 0 & 0\\\\0 & 0 & \\left(\\sin^{2}{\\left(t \\right)} - 1\\right) \\sinh^{2}{\\left(\\chi \\right)} - 2 \\cos^{2}{\\left(t \\right)} \\sinh^{2}{\\left(\\chi \\right)} & 0\\\\0 & 0 & 0 & \\left(\\sin^{2}{\\left(t \\right)} - 1\\right) \\sin^{2}{\\left(\\theta \\right)} \\sinh^{2}{\\left(\\chi \\right)} - 2 \\sin^{2}{\\left(\\theta \\right)} \\cos^{2}{\\left(t \\right)} \\sinh^{2}{\\left(\\chi \\right)}\\end{matrix}\\right]$"
      ],
      "text/plain": [
       "[[3, 0, 0, 0], [0, -3*cos(t)**2, 0, 0], [0, 0, (sin(t)**2 - 1)*sinh(chi)**2 - 2*cos(t)**2*sinh(chi)**2, 0], [0, 0, 0, (sin(t)**2 - 1)*sin(theta)**2*sinh(chi)**2 - 2*sin(theta)**2*cos(t)**2*sinh(chi)**2]]"
      ]
     },
     "metadata": {},
     "output_type": "display_data"
    }
   ],
   "source": [
    "from einsteinpy.symbolic.predefined import AntiDeSitter\n",
    "metr = AntiDeSitter()\n",
    "display(metr.tensor())\n",
    "\n",
    "Ric = RicciTensor.from_metric(metr)\n",
    "display(Ric.tensor())"
   ]
  },
  {
   "cell_type": "code",
   "execution_count": 51,
   "metadata": {},
   "outputs": [
    {
     "ename": "ValueError",
     "evalue": "cannot copy sequence with size 16 to array axis with dimension 4",
     "output_type": "error",
     "traceback": [
      "\u001b[0;31m---------------------------------------------------------------------------\u001b[0m",
      "\u001b[0;31mValueError\u001b[0m                                Traceback (most recent call last)",
      "\u001b[0;32m<ipython-input-51-19fa6dd04e91>\u001b[0m in \u001b[0;36m<module>\u001b[0;34m\u001b[0m\n\u001b[0;32m----> 1\u001b[0;31m \u001b[0mR\u001b[0m \u001b[0;34m=\u001b[0m \u001b[0mRicciScalar\u001b[0m\u001b[0;34m.\u001b[0m\u001b[0mfrom_metric\u001b[0m\u001b[0;34m(\u001b[0m\u001b[0mm_obj2\u001b[0m\u001b[0;34m)\u001b[0m\u001b[0;34m\u001b[0m\u001b[0;34m\u001b[0m\u001b[0m\n\u001b[0m\u001b[1;32m      2\u001b[0m \u001b[0mR\u001b[0m\u001b[0;34m.\u001b[0m\u001b[0msimplify\u001b[0m\u001b[0;34m(\u001b[0m\u001b[0;34m)\u001b[0m\u001b[0;34m\u001b[0m\u001b[0;34m\u001b[0m\u001b[0m\n\u001b[1;32m      3\u001b[0m \u001b[0mR\u001b[0m\u001b[0;34m.\u001b[0m\u001b[0mexpr\u001b[0m\u001b[0;34m\u001b[0m\u001b[0;34m\u001b[0m\u001b[0m\n",
      "\u001b[0;32m~/anaconda3/lib/python3.7/site-packages/einsteinpy/symbolic/ricci.py\u001b[0m in \u001b[0;36mfrom_metric\u001b[0;34m(cls, metric)\u001b[0m\n\u001b[1;32m    254\u001b[0m         \"\"\"\n\u001b[1;32m    255\u001b[0m         \u001b[0mch\u001b[0m \u001b[0;34m=\u001b[0m \u001b[0mChristoffelSymbols\u001b[0m\u001b[0;34m.\u001b[0m\u001b[0mfrom_metric\u001b[0m\u001b[0;34m(\u001b[0m\u001b[0mmetric\u001b[0m\u001b[0;34m)\u001b[0m\u001b[0;34m\u001b[0m\u001b[0;34m\u001b[0m\u001b[0m\n\u001b[0;32m--> 256\u001b[0;31m         \u001b[0;32mreturn\u001b[0m \u001b[0mcls\u001b[0m\u001b[0;34m.\u001b[0m\u001b[0mfrom_christoffels\u001b[0m\u001b[0;34m(\u001b[0m\u001b[0mch\u001b[0m\u001b[0;34m,\u001b[0m \u001b[0mparent_metric\u001b[0m\u001b[0;34m=\u001b[0m\u001b[0;32mNone\u001b[0m\u001b[0;34m)\u001b[0m\u001b[0;34m\u001b[0m\u001b[0;34m\u001b[0m\u001b[0m\n\u001b[0m",
      "\u001b[0;32m~/anaconda3/lib/python3.7/site-packages/einsteinpy/symbolic/ricci.py\u001b[0m in \u001b[0;36mfrom_christoffels\u001b[0;34m(cls, chris, parent_metric)\u001b[0m\n\u001b[1;32m    240\u001b[0m             \u001b[0mchris\u001b[0m\u001b[0;34m,\u001b[0m \u001b[0mparent_metric\u001b[0m\u001b[0;34m=\u001b[0m\u001b[0mparent_metric\u001b[0m\u001b[0;34m\u001b[0m\u001b[0;34m\u001b[0m\u001b[0m\n\u001b[1;32m    241\u001b[0m         )\n\u001b[0;32m--> 242\u001b[0;31m         \u001b[0;32mreturn\u001b[0m \u001b[0mcls\u001b[0m\u001b[0;34m.\u001b[0m\u001b[0mfrom_riemann\u001b[0m\u001b[0;34m(\u001b[0m\u001b[0mrt\u001b[0m\u001b[0;34m)\u001b[0m\u001b[0;34m\u001b[0m\u001b[0;34m\u001b[0m\u001b[0m\n\u001b[0m\u001b[1;32m    243\u001b[0m \u001b[0;34m\u001b[0m\u001b[0m\n\u001b[1;32m    244\u001b[0m     \u001b[0;34m@\u001b[0m\u001b[0mclassmethod\u001b[0m\u001b[0;34m\u001b[0m\u001b[0;34m\u001b[0m\u001b[0m\n",
      "\u001b[0;32m~/anaconda3/lib/python3.7/site-packages/einsteinpy/symbolic/ricci.py\u001b[0m in \u001b[0;36mfrom_riemann\u001b[0;34m(cls, riemann, parent_metric)\u001b[0m\n\u001b[1;32m    221\u001b[0m \u001b[0;34m\u001b[0m\u001b[0m\n\u001b[1;32m    222\u001b[0m         \u001b[0mcg\u001b[0m \u001b[0;34m=\u001b[0m \u001b[0mRicciTensor\u001b[0m\u001b[0;34m.\u001b[0m\u001b[0mfrom_riemann\u001b[0m\u001b[0;34m(\u001b[0m\u001b[0mriemann\u001b[0m\u001b[0;34m,\u001b[0m \u001b[0mparent_metric\u001b[0m\u001b[0;34m=\u001b[0m\u001b[0mparent_metric\u001b[0m\u001b[0;34m)\u001b[0m\u001b[0;34m\u001b[0m\u001b[0;34m\u001b[0m\u001b[0m\n\u001b[0;32m--> 223\u001b[0;31m         \u001b[0;32mreturn\u001b[0m \u001b[0mcls\u001b[0m\u001b[0;34m.\u001b[0m\u001b[0mfrom_riccitensor\u001b[0m\u001b[0;34m(\u001b[0m\u001b[0mcg\u001b[0m\u001b[0;34m)\u001b[0m\u001b[0;34m\u001b[0m\u001b[0;34m\u001b[0m\u001b[0m\n\u001b[0m\u001b[1;32m    224\u001b[0m \u001b[0;34m\u001b[0m\u001b[0m\n\u001b[1;32m    225\u001b[0m     \u001b[0;34m@\u001b[0m\u001b[0mclassmethod\u001b[0m\u001b[0;34m\u001b[0m\u001b[0;34m\u001b[0m\u001b[0m\n",
      "\u001b[0;32m~/anaconda3/lib/python3.7/site-packages/einsteinpy/symbolic/ricci.py\u001b[0m in \u001b[0;36mfrom_riccitensor\u001b[0;34m(cls, riccitensor, parent_metric)\u001b[0m\n\u001b[1;32m    198\u001b[0m         \u001b[0;32mif\u001b[0m \u001b[0;32mnot\u001b[0m \u001b[0mriccitensor\u001b[0m\u001b[0;34m.\u001b[0m\u001b[0mconfig\u001b[0m \u001b[0;34m==\u001b[0m \u001b[0;34m\"ul\"\u001b[0m\u001b[0;34m:\u001b[0m\u001b[0;34m\u001b[0m\u001b[0;34m\u001b[0m\u001b[0m\n\u001b[1;32m    199\u001b[0m             riccitensor = riccitensor.change_config(\n\u001b[0;32m--> 200\u001b[0;31m                 \u001b[0mnewconfig\u001b[0m\u001b[0;34m=\u001b[0m\u001b[0;34m\"ul\"\u001b[0m\u001b[0;34m,\u001b[0m \u001b[0mmetric\u001b[0m\u001b[0;34m=\u001b[0m\u001b[0mparent_metric\u001b[0m\u001b[0;34m\u001b[0m\u001b[0;34m\u001b[0m\u001b[0m\n\u001b[0m\u001b[1;32m    201\u001b[0m             )\n\u001b[1;32m    202\u001b[0m         \u001b[0;32mif\u001b[0m \u001b[0mparent_metric\u001b[0m \u001b[0;32mis\u001b[0m \u001b[0;32mNone\u001b[0m\u001b[0;34m:\u001b[0m\u001b[0;34m\u001b[0m\u001b[0;34m\u001b[0m\u001b[0m\n",
      "\u001b[0;32m~/anaconda3/lib/python3.7/site-packages/einsteinpy/symbolic/ricci.py\u001b[0m in \u001b[0;36mchange_config\u001b[0;34m(self, newconfig, metric)\u001b[0m\n\u001b[1;32m    135\u001b[0m         \u001b[0;32mif\u001b[0m \u001b[0mmetric\u001b[0m \u001b[0;32mis\u001b[0m \u001b[0;32mNone\u001b[0m\u001b[0;34m:\u001b[0m\u001b[0;34m\u001b[0m\u001b[0;34m\u001b[0m\u001b[0m\n\u001b[1;32m    136\u001b[0m             \u001b[0;32mraise\u001b[0m \u001b[0mException\u001b[0m\u001b[0;34m(\u001b[0m\u001b[0;34m\"Parent Metric not found, can't do configuration change\"\u001b[0m\u001b[0;34m)\u001b[0m\u001b[0;34m\u001b[0m\u001b[0;34m\u001b[0m\u001b[0m\n\u001b[0;32m--> 137\u001b[0;31m         \u001b[0mnew_tensor\u001b[0m \u001b[0;34m=\u001b[0m \u001b[0m_change_config\u001b[0m\u001b[0;34m(\u001b[0m\u001b[0mself\u001b[0m\u001b[0;34m,\u001b[0m \u001b[0mmetric\u001b[0m\u001b[0;34m,\u001b[0m \u001b[0mnewconfig\u001b[0m\u001b[0;34m)\u001b[0m\u001b[0;34m\u001b[0m\u001b[0;34m\u001b[0m\u001b[0m\n\u001b[0m\u001b[1;32m    138\u001b[0m         new_obj = RicciTensor(\n\u001b[1;32m    139\u001b[0m             \u001b[0mnew_tensor\u001b[0m\u001b[0;34m,\u001b[0m \u001b[0mself\u001b[0m\u001b[0;34m.\u001b[0m\u001b[0msyms\u001b[0m\u001b[0;34m,\u001b[0m \u001b[0mconfig\u001b[0m\u001b[0;34m=\u001b[0m\u001b[0mnewconfig\u001b[0m\u001b[0;34m,\u001b[0m \u001b[0mparent_metric\u001b[0m\u001b[0;34m=\u001b[0m\u001b[0mmetric\u001b[0m\u001b[0;34m\u001b[0m\u001b[0;34m\u001b[0m\u001b[0m\n",
      "\u001b[0;32m~/anaconda3/lib/python3.7/site-packages/einsteinpy/symbolic/tensor.py\u001b[0m in \u001b[0;36m_change_config\u001b[0;34m(tensor, metric, newconfig)\u001b[0m\n\u001b[1;32m     63\u001b[0m         \u001b[0;32mreturn\u001b[0m \u001b[0mt\u001b[0m\u001b[0;34m\u001b[0m\u001b[0;34m\u001b[0m\u001b[0m\n\u001b[1;32m     64\u001b[0m \u001b[0;34m\u001b[0m\u001b[0m\n\u001b[0;32m---> 65\u001b[0;31m     \u001b[0;32mreturn\u001b[0m \u001b[0mchain_config_change\u001b[0m\u001b[0;34m(\u001b[0m\u001b[0;34m)\u001b[0m\u001b[0;34m\u001b[0m\u001b[0;34m\u001b[0m\u001b[0m\n\u001b[0m\u001b[1;32m     66\u001b[0m \u001b[0;34m\u001b[0m\u001b[0m\n\u001b[1;32m     67\u001b[0m \u001b[0;34m\u001b[0m\u001b[0m\n",
      "\u001b[0;32m~/anaconda3/lib/python3.7/site-packages/einsteinpy/symbolic/tensor.py\u001b[0m in \u001b[0;36mchain_config_change\u001b[0;34m()\u001b[0m\n\u001b[1;32m     52\u001b[0m                 )\n\u001b[1;32m     53\u001b[0m                 \u001b[0;31m# reshuffle the indices\u001b[0m\u001b[0;34m\u001b[0m\u001b[0;34m\u001b[0m\u001b[0;34m\u001b[0m\u001b[0m\n\u001b[0;32m---> 54\u001b[0;31m                 \u001b[0mtmp\u001b[0m \u001b[0;34m=\u001b[0m \u001b[0mnp\u001b[0m\u001b[0;34m.\u001b[0m\u001b[0marray\u001b[0m\u001b[0;34m(\u001b[0m\u001b[0mt\u001b[0m\u001b[0;34m)\u001b[0m\u001b[0;34m.\u001b[0m\u001b[0mreshape\u001b[0m\u001b[0;34m(\u001b[0m\u001b[0mt\u001b[0m\u001b[0;34m.\u001b[0m\u001b[0mshape\u001b[0m\u001b[0;34m)\u001b[0m\u001b[0;34m\u001b[0m\u001b[0;34m\u001b[0m\u001b[0m\n\u001b[0m\u001b[1;32m     55\u001b[0m                 source, dest = (\n\u001b[1;32m     56\u001b[0m                     \u001b[0;34m[\u001b[0m\u001b[0mp\u001b[0m \u001b[0;32mfor\u001b[0m \u001b[0mp\u001b[0m \u001b[0;32min\u001b[0m \u001b[0mrange\u001b[0m\u001b[0;34m(\u001b[0m\u001b[0mlen\u001b[0m\u001b[0;34m(\u001b[0m\u001b[0mt\u001b[0m\u001b[0;34m.\u001b[0m\u001b[0mshape\u001b[0m\u001b[0;34m)\u001b[0m\u001b[0;34m)\u001b[0m\u001b[0;34m]\u001b[0m\u001b[0;34m,\u001b[0m\u001b[0;34m\u001b[0m\u001b[0;34m\u001b[0m\u001b[0m\n",
      "\u001b[0;31mValueError\u001b[0m: cannot copy sequence with size 16 to array axis with dimension 4"
     ]
    }
   ],
   "source": [
    "R = RicciScalar.from_metric(m_obj2)\n",
    "R.simplify()\n",
    "R.expr"
   ]
  },
  {
   "cell_type": "code",
   "execution_count": null,
   "metadata": {},
   "outputs": [],
   "source": []
  },
  {
   "cell_type": "code",
   "execution_count": null,
   "metadata": {},
   "outputs": [],
   "source": []
  },
  {
   "cell_type": "code",
   "execution_count": null,
   "metadata": {},
   "outputs": [],
   "source": []
  },
  {
   "cell_type": "code",
   "execution_count": null,
   "metadata": {},
   "outputs": [],
   "source": []
  }
 ],
 "metadata": {
  "kernelspec": {
   "display_name": "Python 3",
   "language": "python",
   "name": "python3"
  },
  "language_info": {
   "codemirror_mode": {
    "name": "ipython",
    "version": 3
   },
   "file_extension": ".py",
   "mimetype": "text/x-python",
   "name": "python",
   "nbconvert_exporter": "python",
   "pygments_lexer": "ipython3",
   "version": "3.7.5"
  }
 },
 "nbformat": 4,
 "nbformat_minor": 2
}
