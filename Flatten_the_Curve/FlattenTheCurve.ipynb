{
 "cells": [
  {
   "cell_type": "markdown",
   "metadata": {},
   "source": [
    "# Flatten the Curve : A Simple SIR Model for Spread of Infectious Disease"
   ]
  },
  {
   "cell_type": "markdown",
   "metadata": {},
   "source": [
    "You need to install ipympl to use this program. It makes the graph interactive in a Jupyter environment. If using Anaconda, please run ```conda install -c conda-forge ipympl```. Other wise simply use ```pip install ipympl```. You can find more information at [this github page](https://github.com/matplotlib/ipympl).\n",
    "\n",
    "You will also nee Numpy, Scipy and matplotlib (which you should have if using Anaconda)"
   ]
  },
  {
   "cell_type": "code",
   "execution_count": 1,
   "metadata": {},
   "outputs": [],
   "source": [
    "%matplotlib widget"
   ]
  },
  {
   "cell_type": "code",
   "execution_count": 9,
   "metadata": {},
   "outputs": [
    {
     "data": {
      "application/vnd.jupyter.widget-view+json": {
       "model_id": "906bf8c6c515407a8f8d6c8076c9efaf",
       "version_major": 2,
       "version_minor": 0
      },
      "text/plain": [
       "Canvas(toolbar=Toolbar(toolitems=[('Home', 'Reset original view', 'home', 'home'), ('Back', 'Back to previous …"
      ]
     },
     "metadata": {},
     "output_type": "display_data"
    }
   ],
   "source": [
    "import numpy as np\n",
    "from scipy.integrate import odeint\n",
    "import matplotlib.pyplot as plt\n",
    "from matplotlib.widgets import Slider,Button,TextBox\n",
    "\n",
    "fig, ax = plt.subplots(figsize=(8,5))\n",
    "plt.subplots_adjust(bottom=0.25)\n",
    "ax.set_facecolor(\"lightgray\")\n",
    "fig.set_facecolor(\"darkgray\")\n",
    "ax.set_title(\"Flatten the Curve : A Simple SIR Model for Spread of Infectious Disease \")\n",
    "################################ ODE PART ################################\n",
    "#Define the Dif. Eq that needs to be solved\n",
    "#We have three derivatives, SRI, and everything works through arrays\n",
    "def SRIp(y,t,transm,recov):\n",
    "\tSv,Rv,Iv = y\n",
    "\tS = -transm*Sv*Iv\n",
    "\tR = recov*Iv\n",
    "\tI = transm*Sv*Iv-recov*Iv \n",
    "\treturn [S,R,I]\n",
    "\n",
    "#Initial Values\n",
    "N = 1\n",
    "Istart = 0.01\n",
    "Rstart = 0\n",
    "Sstart = N-Istart\n",
    "\n",
    "transm0 = 1.5\n",
    "recov0 = 0.2\n",
    "\n",
    "#Time axis\n",
    "t = np.linspace(0,40,2000)\n",
    "\n",
    "#Solving the ODE\n",
    "ODE = odeint(SRIp, [Sstart,Rstart,Istart],t,args = (transm0,recov0))\n",
    "\n",
    "l1, = ax.plot(t,ODE[:,0],\"b\",label=\"Susceptible\")\n",
    "l2, = ax.plot(t,ODE[:,1],\"g\",label=\"Recovered\")\n",
    "l3, = ax.plot(t,ODE[:,2],\"r\",label=\"Infected\")\n",
    "\n",
    "ax.set_ylabel(\"% of Population\")\n",
    "ax.set_xlabel(\"Time\")\n",
    "##########################################################################\n",
    "\n",
    "axfreq = plt.axes([0.25, 0.09, 0.65, 0.03])\n",
    "axamp = plt.axes([0.25, 0.13, 0.65, 0.03])\n",
    "\n",
    "axcolor = \"indianred\"\n",
    "srecov = Slider(axfreq, 'Recovery Rate', 0.1, 1, valinit=recov0,facecolor=axcolor)\n",
    "stransm = Slider(axamp, 'Transmission Rate', 0.1, 5, valinit=transm0,facecolor=axcolor)\n",
    "\n",
    "def update(val):\n",
    "\tax.cla()\n",
    "\ttransm = stransm.val\n",
    "\trecov = srecov.val\n",
    "\tODE = odeint(SRIp, [Sstart,Rstart,Istart],t,args = (transm,recov))\n",
    "\tl1, = ax.plot(t,ODE[:,0],\"b\",label=\"Susceptible\")\n",
    "\tl2, = ax.plot(t,ODE[:,1],\"g\",label=\"Recovered\")\n",
    "\tl3, = ax.plot(t,ODE[:,2],\"r\",label=\"Infected\")\n",
    "\tax.axhline(y=0, color='k',linewidth=0.5)\n",
    "\tax.axvline(x=0, color='k',linewidth=0.5)\n",
    "\tax.legend(loc='best')\n",
    "\tax.set_ylabel(\"% of Population\")\n",
    "\tax.set_xlabel(\"Time\")\n",
    "\tax.set_title(\"Flatten the Curve : A Simple SIR Model for Spread of Infectious Disease \")\n",
    "srecov.on_changed(update)\n",
    "stransm.on_changed(update)\n",
    "\n",
    "\n",
    "resetax = plt.axes([0.8, 0.025, 0.1, 0.04])\n",
    "button = Button(resetax, 'Reset', color=\"lightgray\", hovercolor='0.9')\n",
    "def reset(event):\n",
    "\tglobal t\n",
    "\tt = np.linspace(0,40,2000)\n",
    "\tsrecov.set_val(0.5)\n",
    "\tsubmit(\"40\")\n",
    "\ttext_box.set_val(\"40\")\n",
    "\t\n",
    "    \n",
    "button.on_clicked(reset)\n",
    "\n",
    "def submit(text):\n",
    "\tx_lim = int(eval(text))\n",
    "\tglobal t \n",
    "\tt = np.linspace(0,x_lim,(x_lim/2)*100)\n",
    "\tsrecov.set_val(0.5)\n",
    "\tsrecov.reset()\n",
    "\tstransm.reset()\n",
    "axbox = plt.axes([0.25, 0.025, 0.08, 0.04])\n",
    "text_box = TextBox(axbox, 'Time Length ',color=\"lightgray\", initial=\"40\")\n",
    "text_box.on_submit(submit)\n",
    "\n",
    "ax.axhline(y=0, color='k',linewidth=0.5)\n",
    "ax.axvline(x=0, color='k',linewidth=0.5)\n",
    "ax.legend(loc='best')\n",
    "plt.show()\n"
   ]
  }
 ],
 "metadata": {
  "kernelspec": {
   "display_name": "Python 3",
   "language": "python",
   "name": "python3"
  },
  "language_info": {
   "codemirror_mode": {
    "name": "ipython",
    "version": 3
   },
   "file_extension": ".py",
   "mimetype": "text/x-python",
   "name": "python",
   "nbconvert_exporter": "python",
   "pygments_lexer": "ipython3",
   "version": "3.7.5"
  }
 },
 "nbformat": 4,
 "nbformat_minor": 1
}
